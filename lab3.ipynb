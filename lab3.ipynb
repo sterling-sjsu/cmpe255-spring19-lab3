{
 "cells": [
  {
   "cell_type": "code",
   "execution_count": 106,
   "metadata": {
    "scrolled": true
   },
   "outputs": [
    {
     "name": "stdout",
     "output_type": "stream",
     "text": [
      "::neg::\"Headache and yardwork = miserable hell \"\n",
      "\n",
      "::neg::\"My brothers-in-law tom and @rnchell spent an hour looking for breakfast in the ghetto  we failed and found an aweful mcdonalds...\"\n",
      "\n",
      "::neg::\"Want to apologize to Facebook friends who don't want Tiller coverage. Can't seem to break the TwitSync function. Sorry. \"\n",
      "\n",
      "::neg::\"A word of caution for would be McDonalds free coke cups collecters. The glass is not the same color on each cup. We have brown and purple \"\n",
      "\n",
      "::neg::\"Modern warfare 2 gameplay looks goood  #xboxe3\"\n",
      "\n",
      "::pos::\"Listening to Ana Free =D love you Ana.  From brazil\"\n",
      "\n",
      "::neg::\"I have a headache and it won't go away \"\n",
      "\n",
      "::neg::\"Getting ready to go home today. Leaving Vegas \"\n",
      "\n",
      "::neg::\"this week is not going as i had hoped \"\n",
      "\n",
      "::neg::\"wednesday my b-day! don't know what 2 do!! \"\n",
      "\n",
      "Accuracy=0.800498753117207\n"
     ]
    }
   ],
   "source": [
    "import numpy\n",
    "\n",
    "def load_data():\n",
    "    data = []\n",
    "    data_labels = []\n",
    "    with open(\"./pos_tweets.txt\", encoding=\"utf8\") as f:\n",
    "        for i in f: \n",
    "            data.append(i) \n",
    "            data_labels.append('pos')\n",
    "\n",
    "    with open(\"./neg_tweets.txt\", encoding=\"utf8\") as f:\n",
    "        for i in f: \n",
    "            data.append(i)\n",
    "            data_labels.append('neg')\n",
    "\n",
    "    return data, data_labels\n",
    "\n",
    "def transform_to_features(data):\n",
    "    from sklearn.feature_extraction.text import CountVectorizer\n",
    "    vectorizer = CountVectorizer(\n",
    "        analyzer = 'word',\n",
    "        lowercase = False,\n",
    "    )\n",
    "    features = vectorizer.fit_transform(\n",
    "        data\n",
    "    )\n",
    "    features_nd = features.toarray()\n",
    "    return features_nd\n",
    "\n",
    "def train_then_build_model(data, data_labels, features_nd):\n",
    "    from sklearn.cross_validation import train_test_split\n",
    "    X_train, X_test, y_train, y_test  = train_test_split(\n",
    "        features_nd, \n",
    "        data_labels,\n",
    "        train_size=0.80, \n",
    "        random_state=1234)\n",
    "\n",
    "    from sklearn.linear_model import LogisticRegression\n",
    "    log_model = LogisticRegression()\n",
    "\n",
    "    log_model = log_model.fit(X=X_train, y=y_train)\n",
    "    y_pred = log_model.predict(X_test)\n",
    "            \n",
    "    numOfPredictions = 10\n",
    "    index = 0\n",
    "    while index < numOfPredictions:\n",
    "        tweet = \"\"\n",
    "        for featureIndex, feature in enumerate(features_nd):\n",
    "            if numpy.array_equal(feature, X_test[index]):\n",
    "                tweet = data[featureIndex]\n",
    "                break\n",
    "            \n",
    "        print(\"::{}::{}\".format(y_pred[index], tweet))\n",
    "        index += 1\n",
    "    \n",
    "    # print accuracy\n",
    "    from sklearn.metrics import accuracy_score\n",
    "    print(\"Accuracy={}\".format(accuracy_score(y_test, y_pred)))\n",
    "\n",
    "def process():\n",
    "    data, data_labels = load_data()\n",
    "    features_nd = transform_to_features(data)\n",
    "    train_then_build_model(data, data_labels, features_nd)\n",
    "\n",
    "\n",
    "process()"
   ]
  }
 ],
 "metadata": {
  "kernelspec": {
   "display_name": "Python 3",
   "language": "python",
   "name": "python3"
  },
  "language_info": {
   "codemirror_mode": {
    "name": "ipython",
    "version": 3
   },
   "file_extension": ".py",
   "mimetype": "text/x-python",
   "name": "python",
   "nbconvert_exporter": "python",
   "pygments_lexer": "ipython3",
   "version": "3.6.5"
  }
 },
 "nbformat": 4,
 "nbformat_minor": 2
}
